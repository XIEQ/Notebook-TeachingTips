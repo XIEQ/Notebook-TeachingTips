{
 "cells": [
  {
   "cell_type": "markdown",
   "metadata": {},
   "source": [
    "# Tips for Instructors"
   ]
  },
  {
   "cell_type": "markdown",
   "metadata": {},
   "source": [
    "including links to resources, good example notebooks, and tips/best practices"
   ]
  },
  {
   "cell_type": "markdown",
   "metadata": {
    "collapsed": true
   },
   "source": [
    "- For starters, everyone seems to love [nbgrader](https://github.com/jupyter/nbgrader). It's a notebook extension that allows you to assign, collect and grade notebooks for a course. Lots of good info in the [docs](https://nbgrader.readthedocs.io/en/latest/user_guide/highlights.html)"
   ]
  },
  {
   "cell_type": "markdown",
   "metadata": {
    "collapsed": true
   },
   "source": [
    "- There is also a [Google Group](https://groups.google.com/forum/#!forum/jupyter-education) with lots of archived Q&A about teaching with notebooks, and you can join to stay informed."
   ]
  },
  {
   "cell_type": "markdown",
   "metadata": {
    "collapsed": true
   },
   "source": [
    "- Read this [blog post](https://developer.rackspace.com/blog/deploying-jupyterhub-for-education/) or [watch Jessica Hamrick talk at SciPy 2015](https://www.youtube.com/watch?v=OuhtpxGuboY) for a nice comprehensive description of decisions she made for deploying a JupyterHub for her class"
   ]
  },
  {
   "cell_type": "code",
   "execution_count": null,
   "metadata": {
    "collapsed": true
   },
   "outputs": [],
   "source": []
  }
 ],
 "metadata": {
  "kernelspec": {
   "display_name": "Python 3",
   "language": "python",
   "name": "python3"
  },
  "language_info": {
   "codemirror_mode": {
    "name": "ipython",
    "version": 3
   },
   "file_extension": ".py",
   "mimetype": "text/x-python",
   "name": "python",
   "nbconvert_exporter": "python",
   "pygments_lexer": "ipython3",
   "version": "3.5.2"
  }
 },
 "nbformat": 4,
 "nbformat_minor": 0
}
